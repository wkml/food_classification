{
 "cells": [
  {
   "cell_type": "code",
   "execution_count": 3,
   "metadata": {},
   "outputs": [],
   "source": [
    "import os\n",
    "import shutil\n",
    "\n",
    "path = './train_data/train_data'\n",
    "\n",
    "target_path = './data/train/'"
   ]
  },
  {
   "cell_type": "code",
   "execution_count": 6,
   "metadata": {},
   "outputs": [
    {
     "name": "stdout",
     "output_type": "stream",
     "text": [
      "label_id_name.json\n",
      "train_data\n"
     ]
    }
   ],
   "source": [
    "files = os.listdir(path)\n",
    "for file in files:\n",
    "    print(file)\n",
    "    if file.endswith('.txt'):\n",
    "        with open(path + file,'r') as f:\n",
    "            line = f.read()\n",
    "            image, label = line.split(', ')\n",
    "            if not os.path.exists(target_path + label):\n",
    "                os.makedirs(target_path + label)\n",
    "            shutil.copyfile(path + image, target_path + label + '/' + image)"
   ]
  },
  {
   "cell_type": "code",
   "execution_count": null,
   "metadata": {},
   "outputs": [],
   "source": []
  }
 ],
 "metadata": {
  "kernelspec": {
   "display_name": "Python 3",
   "language": "python",
   "name": "python3"
  },
  "language_info": {
   "codemirror_mode": {
    "name": "ipython",
    "version": 3
   },
   "file_extension": ".py",
   "mimetype": "text/x-python",
   "name": "python",
   "nbconvert_exporter": "python",
   "pygments_lexer": "ipython3",
   "version": "3.7.6"
  },
  "orig_nbformat": 4,
  "vscode": {
   "interpreter": {
    "hash": "26fcd935751ef84cad2d7f9e4bd00a41b458c58fd62c8d14685a9368156264ec"
   }
  }
 },
 "nbformat": 4,
 "nbformat_minor": 2
}
