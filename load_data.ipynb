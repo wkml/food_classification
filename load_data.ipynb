{
 "cells": [
  {
   "cell_type": "code",
   "execution_count": 1,
   "metadata": {},
   "outputs": [
    {
     "name": "stderr",
     "output_type": "stream",
     "text": [
      "INFO:root:Using MoXing-v2.0.0.rc2.4b57a67b-4b57a67b\n",
      "INFO:root:Using OBS-Python-SDK-3.20.9.1\n",
      "INFO:root:Listing OBS: 1000\n",
      "INFO:root:Listing OBS: 2000\n",
      "INFO:root:Listing OBS: 3000\n",
      "INFO:root:Listing OBS: 4000\n",
      "INFO:root:Listing OBS: 5000\n",
      "INFO:root:Listing OBS: 6000\n",
      "INFO:root:Listing OBS: 7000\n",
      "INFO:root:pid: None.\t1000/7463\n",
      "INFO:root:pid: None.\t2000/7463\n",
      "INFO:root:pid: None.\t3000/7463\n",
      "INFO:root:pid: None.\t4000/7463\n",
      "INFO:root:pid: None.\t5000/7463\n",
      "INFO:root:pid: None.\t6000/7463\n",
      "INFO:root:pid: None.\t7000/7463\n"
     ]
    }
   ],
   "source": [
    "import moxing as mox\n",
    "mox.file.copy_parallel('obs://mindcon-comp/xian_data', '/home/ma-user/work/train_data')"
   ]
  },
  {
   "cell_type": "code",
   "execution_count": 3,
   "metadata": {},
   "outputs": [],
   "source": [
    "import moxing as mox\n",
    "mox.file.copy('obs://mindcon-comp/mindcon_food_classification (1).zip', '/home/ma-user/work/food_classification.zip')"
   ]
  },
  {
   "cell_type": "code",
   "execution_count": null,
   "metadata": {},
   "outputs": [],
   "source": []
  }
 ],
 "metadata": {
  "kernelspec": {
   "display_name": "MindSpore",
   "language": "python",
   "name": "mindspore"
  },
  "language_info": {
   "codemirror_mode": {
    "name": "ipython",
    "version": 3
   },
   "file_extension": ".py",
   "mimetype": "text/x-python",
   "name": "python",
   "nbconvert_exporter": "python",
   "pygments_lexer": "ipython3",
   "version": "3.7.6"
  }
 },
 "nbformat": 4,
 "nbformat_minor": 4
}
