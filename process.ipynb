{
 "cells": [
  {
   "cell_type": "code",
   "execution_count": 1,
   "metadata": {},
   "outputs": [],
   "source": [
    "import mindspore.dataset as ds\n",
    "import mindspore.dataset.vision.c_transforms as vision"
   ]
  },
  {
   "cell_type": "code",
   "execution_count": 6,
   "metadata": {},
   "outputs": [],
   "source": [
    "def get_dataset():\n",
    "    image_folder_dataset_dir = \"./food_classification/train/\"\n",
    "    mapping = {\"冰激凌\":0, \"鸡蛋布丁\":1, \"烤冷面\":2, \"芒果班戟\":3, \"三明治\":4, \"松鼠鱼\":5, \"甜甜圈\":6, \"土豆泥\":7, \"小米粥\":8, \"玉米饼\":9}\n",
    "\n",
    "    mean = [0.485 * 255, 0.456 * 255, 0.406 * 255]\n",
    "    std = [0.229 * 255, 0.224 * 255, 0.225 * 255]\n",
    "\n",
    "    transforms_list = [vision.RandomCropDecodeResize(size=224,\n",
    "                                                    scale=(0.08, 1.0),\n",
    "                                                    ratio=(0.75, 1.333)),\n",
    "                    vision.RandomHorizontalFlip(0.75),\n",
    "                    #vision.Normalize(mean=mean, std=std),\n",
    "                    #vision.HWC2CHW(),\n",
    "                    ]\n",
    "\n",
    "    dataset = ds.ImageFolderDataset(dataset_dir=image_folder_dataset_dir,\n",
    "                                    shuffle=True,\n",
    "                                    num_parallel_workers=8,\n",
    "                                    class_indexing=mapping\n",
    "                                    )\n",
    "\n",
    "    dataset = dataset.map(operations=transforms_list)\n",
    "\n",
    "    dataset = dataset.batch(32, drop_remainder=True, num_parallel_workers=8)\n",
    "\n",
    "    train_dataset, val_dataset = dataset.split([0.9, 0.1])\n",
    "    \n",
    "    return train_dataset, val_dataset"
   ]
  },
  {
   "cell_type": "code",
   "execution_count": 7,
   "metadata": {},
   "outputs": [
    {
     "name": "stderr",
     "output_type": "stream",
     "text": [
      "[WARNING] ME(2727:281473121007488,MainProcess):2023-01-10-17:09:50.259.053 [mindspore/dataset/engine/datasets.py:1122] Dataset is shuffled before split.\n"
     ]
    }
   ],
   "source": [
    "train_dataset, val_dataset = get_dataset()"
   ]
  },
  {
   "cell_type": "code",
   "execution_count": 8,
   "metadata": {},
   "outputs": [],
   "source": [
    "for image, label in train_dataset:\n",
    "    break"
   ]
  },
  {
   "cell_type": "code",
   "execution_count": 9,
   "metadata": {},
   "outputs": [],
   "source": [
    "from PIL import Image\n",
    "import matplotlib.pyplot as plt"
   ]
  },
  {
   "cell_type": "code",
   "execution_count": 10,
   "metadata": {},
   "outputs": [],
   "source": [
    "plt.imshow(image[0])"
   ]
  },
  {
   "cell_type": "code",
   "execution_count": null,
   "metadata": {},
   "outputs": [],
   "source": []
  }
 ],
 "metadata": {
  "kernelspec": {
   "display_name": "Python 3",
   "language": "python",
   "name": "python3"
  },
  "language_info": {
   "codemirror_mode": {
    "name": "ipython",
    "version": 3
   },
   "file_extension": ".py",
   "mimetype": "text/x-python",
   "name": "python",
   "nbconvert_exporter": "python",
   "pygments_lexer": "ipython3",
   "version": "3.7.6 | packaged by conda-forge | (default, Jun  1 2020, 18:15:32) \n[GCC 7.5.0]"
  },
  "orig_nbformat": 4,
  "vscode": {
   "interpreter": {
    "hash": "26fcd935751ef84cad2d7f9e4bd00a41b458c58fd62c8d14685a9368156264ec"
   }
  }
 },
 "nbformat": 4,
 "nbformat_minor": 2
}
